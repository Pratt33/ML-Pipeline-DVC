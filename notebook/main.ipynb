{
 "cells": [
  {
   "cell_type": "code",
   "execution_count": 3,
   "id": "81c9ed4f",
   "metadata": {},
   "outputs": [],
   "source": [
    "import pandas as pd\n",
    "import numpy as np\n",
    "import os"
   ]
  },
  {
   "cell_type": "code",
   "execution_count": 4,
   "id": "ec284055",
   "metadata": {},
   "outputs": [],
   "source": [
    "df=pd.read_csv('../data/raw/Reviews.csv')"
   ]
  },
  {
   "cell_type": "code",
   "execution_count": 5,
   "id": "2dd9db9d",
   "metadata": {},
   "outputs": [
    {
     "name": "stdout",
     "output_type": "stream",
     "text": [
      "<class 'pandas.core.frame.DataFrame'>\n",
      "RangeIndex: 568454 entries, 0 to 568453\n",
      "Data columns (total 10 columns):\n",
      " #   Column                  Non-Null Count   Dtype \n",
      "---  ------                  --------------   ----- \n",
      " 0   Id                      568454 non-null  int64 \n",
      " 1   ProductId               568454 non-null  object\n",
      " 2   UserId                  568454 non-null  object\n",
      " 3   ProfileName             568428 non-null  object\n",
      " 4   HelpfulnessNumerator    568454 non-null  int64 \n",
      " 5   HelpfulnessDenominator  568454 non-null  int64 \n",
      " 6   Score                   568454 non-null  int64 \n",
      " 7   Time                    568454 non-null  int64 \n",
      " 8   Summary                 568427 non-null  object\n",
      " 9   Text                    568454 non-null  object\n",
      "dtypes: int64(5), object(5)\n",
      "memory usage: 43.4+ MB\n"
     ]
    }
   ],
   "source": [
    "df.info()"
   ]
  },
  {
   "cell_type": "code",
   "execution_count": 6,
   "id": "2620099e",
   "metadata": {},
   "outputs": [],
   "source": [
    "#HelpfulnessDenominator =helfull+not helpfull\n",
    "#HelpfulnessNumerator = helfull\n",
    "#so make third column that is helfullness ratio\n",
    "#the review which is more helpful is also one of ways to recommend a product\n",
    "#now review can be 3 types good, bad, neutral\n",
    "#overall helpfulness ratio is to ve used to evaluate review not product\n",
    "#so it is not a good idea to use it to recommend product\n",
    "#remove both columns"
   ]
  },
  {
   "cell_type": "code",
   "execution_count": 7,
   "id": "f6171c5a",
   "metadata": {},
   "outputs": [],
   "source": [
    "keep_cols = ['Id', 'ProductId', 'UserId', 'Score', 'Summary', 'Text']\n",
    "df = df[keep_cols]"
   ]
  },
  {
   "cell_type": "code",
   "execution_count": 8,
   "id": "8d92167b",
   "metadata": {},
   "outputs": [
    {
     "data": {
      "text/plain": [
       "Id           568454\n",
       "ProductId    568454\n",
       "UserId       568454\n",
       "Score        568454\n",
       "Summary      568427\n",
       "Text         568454\n",
       "dtype: int64"
      ]
     },
     "execution_count": 8,
     "metadata": {},
     "output_type": "execute_result"
    }
   ],
   "source": [
    "df.notna().sum()"
   ]
  },
  {
   "cell_type": "code",
   "execution_count": 9,
   "id": "369d1879",
   "metadata": {},
   "outputs": [],
   "source": [
    "df.dropna(inplace=True)"
   ]
  },
  {
   "cell_type": "code",
   "execution_count": 10,
   "id": "803e9eac",
   "metadata": {},
   "outputs": [
    {
     "data": {
      "text/plain": [
       "Id           0\n",
       "ProductId    0\n",
       "UserId       0\n",
       "Score        0\n",
       "Summary      0\n",
       "Text         0\n",
       "dtype: int64"
      ]
     },
     "execution_count": 10,
     "metadata": {},
     "output_type": "execute_result"
    }
   ],
   "source": [
    "df.isnull().sum()"
   ]
  },
  {
   "cell_type": "code",
   "execution_count": 11,
   "id": "708579f4",
   "metadata": {},
   "outputs": [
    {
     "data": {
      "text/plain": [
       "np.int64(0)"
      ]
     },
     "execution_count": 11,
     "metadata": {},
     "output_type": "execute_result"
    }
   ],
   "source": [
    "df.duplicated().sum()"
   ]
  },
  {
   "cell_type": "code",
   "execution_count": 12,
   "id": "e0f9ce14",
   "metadata": {},
   "outputs": [],
   "source": [
    "df['Summary'] = df['Summary'].str.lower().str.strip()\n",
    "df['Text'] = df['Text'].str.lower().str.strip()"
   ]
  },
  {
   "cell_type": "code",
   "execution_count": 13,
   "id": "14fdc25a",
   "metadata": {},
   "outputs": [
    {
     "name": "stdout",
     "output_type": "stream",
     "text": [
      "Number of active users: 23261\n",
      "Number of active products: 17538\n"
     ]
    }
   ],
   "source": [
    "#filter most active users\n",
    "#minimum user and product intraction\n",
    "min_user_interactions = 5\n",
    "min_product_interactions = 5\n",
    "user_counts = df['UserId'].value_counts()\n",
    "product_counts = df['ProductId'].value_counts()\n",
    "active_users = user_counts[user_counts >= min_user_interactions].index\n",
    "active_products = product_counts[product_counts >= min_product_interactions].index\n",
    "df = df[df['UserId'].isin(active_users) & df['ProductId'].isin(active_products)]\n",
    "\n",
    "#no. of such users and products\n",
    "num_active_users = df['UserId'].nunique()\n",
    "num_active_products = df['ProductId'].nunique()\n",
    "print(f\"Number of active users: {num_active_users}\")\n",
    "print(f\"Number of active products: {num_active_products}\")"
   ]
  }
 ],
 "metadata": {
  "kernelspec": {
   "display_name": "Python 3",
   "language": "python",
   "name": "python3"
  },
  "language_info": {
   "codemirror_mode": {
    "name": "ipython",
    "version": 3
   },
   "file_extension": ".py",
   "mimetype": "text/x-python",
   "name": "python",
   "nbconvert_exporter": "python",
   "pygments_lexer": "ipython3",
   "version": "3.13.5"
  }
 },
 "nbformat": 4,
 "nbformat_minor": 5
}
